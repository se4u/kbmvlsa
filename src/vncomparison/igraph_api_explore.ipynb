{
 "cells": [
  {
   "cell_type": "code",
   "execution_count": 93,
   "metadata": {
    "collapsed": false
   },
   "outputs": [
    {
     "name": "stdout",
     "output_type": "stream",
     "text": [
      "['data_dict', 'entity_to_int_map']\n",
      "Total Nodes= 220603\n",
      "0   InvestorShareholder_organization_to_investorShareholder      530\n",
      "1   Origin_affiliatedEntity_to_person                            2764\n",
      "2   EmploymentMembership_organization_to_employeeMember          36631\n",
      "3   Die_victim_to_agent                                          0\n",
      "4   Membership_organization_to_member                            369\n",
      "5   OrgHeadquarter_location_to_organization                      7242\n",
      "6   Resident_location_to_person                                  16288\n",
      "7   OrganizationWebsite_organization_to_url                      200\n",
      "8   ChargeIndict_defendant_to_crime                              387\n",
      "9   Founder_organization_to_founder                              1281\n",
      "10  Leadership_leader_to_affiliatedEntity                        9600\n",
      "11  Role_person_to_role                                          42491\n",
      "12  StudentAlum_organization_to_studentAlumni                    1306\n",
      "13  ParentChildRelationship_parent_to_child                      1774\n",
      "Total Edges= 120863\n",
      "True\n"
     ]
    }
   ],
   "source": [
    "# %load use_adept_kb_pkl.py\n",
    "#!/usr/bin/env python\n",
    "import cPickle as pkl\n",
    "import rasengan\n",
    "\n",
    "data = pkl.load(open('../../res/adept.pkl'))\n",
    "print data.keys()\n",
    "print 'Total Nodes=', len(data['entity_to_int_map'])\n",
    "total = 0\n",
    "for idx, k in enumerate(data['data_dict']):\n",
    "    l = len(data['data_dict'][k])\n",
    "    print '%-3d' % idx, '%-60s' % k, l\n",
    "    total += l\n",
    "print 'Total Edges=', total\n",
    "entity_to_int_map = data['entity_to_int_map']\n",
    "data_dict = data['data_dict']\n",
    "views = data_dict.keys()\n",
    "dv = data_dict.values()\n",
    "view_sizes = [len(e) for e in dv]\n",
    "all_nodes = set(rasengan.flatten(dv))\n",
    "all_edges = reduce(lambda x,y : x+y, dv)\n",
    "set_all_edges = set(tuple(e) for e in all_edges)\n",
    "import igraph\n",
    "g = igraph.Graph(n=220603, edges=list(set_all_edges), directed=False)\n",
    "cmp = g.components()\n",
    "bigcmp = [e for e in cmp if len(e) > 1]\n",
    "cmp_22147 = [e for e in bigcmp if 22147 in e]\n",
    "print 78358 in cmp_22147[0]"
   ]
  },
  {
   "cell_type": "code",
   "execution_count": 94,
   "metadata": {
    "collapsed": false
   },
   "outputs": [
    {
     "data": {
      "text/plain": [
       "True"
      ]
     },
     "execution_count": 94,
     "metadata": {},
     "output_type": "execute_result"
    }
   ],
   "source": [
    "g.delete_edges([(2647, 78358), (78358, 2647)])\n",
    "cmp = g.components()\n",
    "bigcmp = [e for e in cmp if len(e) > 1]\n",
    "cmp_22147 = [e for e in bigcmp if 22147 in e]\n",
    "78358 in cmp_22147[0]"
   ]
  },
  {
   "cell_type": "code",
   "execution_count": 23,
   "metadata": {
    "collapsed": false
   },
   "outputs": [
    {
     "name": "stdout",
     "output_type": "stream",
     "text": [
      "75771 120863\n",
      "17945\n",
      "(2647, {22147: None, 78358: None, 193798: None, 39177: None, 57868: None, 118699: None, 102543: None, 46739: None, 968: None, 44181: None, 184470: None, 170905: None, 13212: None, 90787: None, 52901: None, 65831: None, 19275: None, 144939: None, 20168: None, 83378: None, 139444: None, 67509: None, 33591: None, 191235: None, 114107: None, 141512: None, 176193: None, 159299: None, 18166: None, 133574: None, 72392: None, 116553: None, 21707: None, 21708: None, 207311: None, 29904: None, 71116: None, 70741: None, 33879: None, 203608: None, 83549: None, 210981: None, 100836: None, 89967: None, 109171: None, 146676: None, 14966: None, 116089: None, 85756: None, 46590: None})\n"
     ]
    }
   ],
   "source": [
    "# There are 120K edges amongst 76K nodes.\n",
    "print len(all_nodes), len(all_edges)\n",
    "from collections import defaultdict as dd\n",
    "org2investor = dd(dict)\n",
    "for org, investor in data_dict['EmploymentMembership_organization_to_employeeMember']:\n",
    "    org2investor[org][investor] = None\n",
    "print len(org2investor)\n",
    "print max(org2investor.items(), key=lambda x: len(x[1]))\n"
   ]
  },
  {
   "cell_type": "code",
   "execution_count": 39,
   "metadata": {
    "collapsed": false
   },
   "outputs": [],
   "source": [
    "a, b, c = g.bfs(22147)\n"
   ]
  },
  {
   "cell_type": "code",
   "execution_count": 92,
   "metadata": {
    "collapsed": false
   },
   "outputs": [
    {
     "name": "stdout",
     "output_type": "stream",
     "text": [
      "[[0, 2, 6], [1, 3, 4, 7, 8]]\n"
     ]
    }
   ],
   "source": [
    "cmp = g.components()\n",
    "bigcmp = [e for e in cmp if len(e) > 1]\n",
    "cmp_22147 = [e for e in bigcmp if 22147 in e]\n",
    "print (bigcmp)"
   ]
  }
 ],
 "metadata": {
  "kernelspec": {
   "display_name": "Python 2",
   "language": "python",
   "name": "python2"
  },
  "language_info": {
   "codemirror_mode": {
    "name": "ipython",
    "version": 2
   },
   "file_extension": ".py",
   "mimetype": "text/x-python",
   "name": "python",
   "nbconvert_exporter": "python",
   "pygments_lexer": "ipython2",
   "version": "2.7.11"
  }
 },
 "nbformat": 4,
 "nbformat_minor": 0
}
