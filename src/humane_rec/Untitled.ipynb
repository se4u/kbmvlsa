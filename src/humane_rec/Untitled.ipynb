{
 "cells": [
  {
   "cell_type": "code",
   "execution_count": 18,
   "metadata": {
    "collapsed": false
   },
   "outputs": [],
   "source": [
    "import matplotlib\n",
    "matplotlib.use('Agg')\n",
    "from matplotlib.pyplot import *\n",
    "import matplotlib.pyplot as plt\n",
    "from matplotlib import *\n",
    "import matplotlib as mpl\n",
    "from IPython.display import Image"
   ]
  },
  {
   "cell_type": "code",
   "execution_count": 3,
   "metadata": {
    "collapsed": false
   },
   "outputs": [],
   "source": [
    "import cPickle as pkl\n",
    "from performance_aggregator import ranking_stats\n",
    "import performance_aggregator\n",
    "performance_aggregator = reload(performance_aggregator)"
   ]
  },
  {
   "cell_type": "code",
   "execution_count": null,
   "metadata": {
    "collapsed": true
   },
   "outputs": [],
   "source": [
    "f = open('/export/b15/prastog3/catpeople_ls.ppcfg~0.expcfg~16.pkl')\n",
    "self = pkl.load(f)"
   ]
  },
  {
   "cell_type": "code",
   "execution_count": 29,
   "metadata": {
    "collapsed": false
   },
   "outputs": [],
   "source": [
    "record = self.record\n",
    "TM = self.TM\n",
    "urls = self.url_list\n",
    "limit = self.limit\n",
    "cats = record.keys()"
   ]
  },
  {
   "cell_type": "code",
   "execution_count": 47,
   "metadata": {
    "collapsed": false
   },
   "outputs": [],
   "source": [
    "self2 = performance_aggregator.Aggregator(None, None, None, None, None)\n",
    "def fmt(lst):\n",
    "    if isinstance(lst, float) or isinstance(lst, int):\n",
    "        return '%.3f'%lst\n",
    "    return ['%.3f'%e for e in lst]\n",
    "\n",
    "def get(scratch):\n",
    "    coef = scratch['coef']\n",
    "    intercept = scratch['intercept']\n",
    "    features = scratch['features']\n",
    "    return coef.T, intercept, features\n",
    "\n",
    "def get_feat(cat):\n",
    "    scores, scratch = record[cat][0]\n",
    "    coef, intercept, features = get(scratch)\n",
    "    nnz = coef.nonzero()[0]\n",
    "    nv = zip(self.TM[[features[e] for e in nnz]], [e[0] for e in coef[nnz]])\n",
    "    nv.sort(key=lambda x: x[1], reverse=True)\n",
    "    test_stats = ranking_stats(self2.convert(scores, keepout='train'))[::2]\n",
    "    train_stats = ranking_stats(self2.convert(scores, keepout='test'))[::2]\n",
    "    return nv, test_stats, train_stats"
   ]
  },
  {
   "cell_type": "code",
   "execution_count": 66,
   "metadata": {
    "collapsed": true
   },
   "outputs": [],
   "source": [
    "cat_to_stat = []\n",
    "for cat in cats:\n",
    "    nv, test_stats, train_stats = get_feat(cat)\n",
    "    # cat_to_stat.append([cat, test_stats[0], test_stats[-1], train_stats[0], train_stats[-1]])\n",
    "    #cat_to_stat.append([cat, test_stats[1], train_stats[1]]) # P@10\n",
    "    cat_to_stat.append([cat, test_stats[0], train_stats[0]]) # AP\n",
    "    # cat_to_stat.append([cat, test_stats[-1], train_stats[-1]]) # MRR"
   ]
  },
  {
   "cell_type": "code",
   "execution_count": 67,
   "metadata": {
    "collapsed": false,
    "scrolled": true
   },
   "outputs": [
    {
     "name": "stdout",
     "output_type": "stream",
     "text": [
      "100\n",
      "Mayflower_passengers  [1.0, 1.0]\n",
      "World_Series_of_Poke  [1.0, 0.8369375480314909]\n",
      "Zen_Buddhist_monks_a  [1.0, 0.80350436938299874]\n",
      "Disciples_of_Gautama  [1.0, 0.76286627053574274]\n",
      "Bare-knuckle_boxers   [1.0, 0.72271208582376789]\n",
      "Social_Democratic_Pa  [1.0, 0.66144122433608465]\n",
      "Toronto_city_council  [1.0, 0.59154688573347991]\n",
      "Música_Popular_Bras  [1.0, 0.51785261800331439]\n",
      "University_of_Tartu_  [1.0, 0.51557006597529098]\n",
      "Aviators_killed_by_b  [1.0, 0.50894540957247336]\n",
      "Olympic_silver_medal  [1.0, 0.50046024108455689]\n",
      "National_Football_Le  [1.0, 0.46971216197913968]\n",
      "Recipients_of_the_Sa  [1.0, 0.45719152539923347]\n",
      "Mexican_Roman_Cathol  [1.0, 0.44798179255610804]\n",
      "Frank_Zappa           [1.0, 0.43147132974656149]\n",
      "Members_of_the_Liber  [1.0, 0.42906794949191263]\n",
      "Filipino_female_sing  [1.0, 0.42692159936914137]\n",
      "Martial_arts_writers  [1.0, 0.40033524863574871]\n",
      "National_Football_Le  [1.0, 0.39181353967174054]\n",
      "Italian_artists       [1.0, 0.38901741516296046]\n",
      "Members_of_the_North  [1.0, 0.37760482500976988]\n",
      "People_of_the_Texas_  [1.0, 0.37620847601192076]\n",
      "German_expatriate_fo  [1.0, 0.374266470151492]\n",
      "Arkansas_Democrats    [1.0, 0.37272908825647577]\n",
      "Indiana_Pacers_playe  [1.0, 0.34393974530107752]\n",
      "International_Gymnas  [1.0, 0.33905333295937096]\n",
      "National_Basketball_  [1.0, 0.30831861475815403]\n",
      "Deaths_from_smallpox  [1.0, 0.30826639279506679]\n",
      "People_of_Virginia_i  [1.0, 0.3002906996179962]\n",
      "American_art_critics  [1.0, 0.29715167489150285]\n",
      "Italian_printmakers   [1.0, 0.29597121114972114]\n",
      "British_newspaper_ed  [1.0, 0.29428976621216879]\n",
      "California_Angels_br  [1.0, 0.28876263630549642]\n",
      "Burials_at_the_Congr  [1.0, 0.28591606143299542]\n",
      "Indian_emigrants_to_  [1.0, 0.27822388489457173]\n",
      "Texas_Rangers_player  [1.0, 0.26946321753010677]\n",
      "Huddersfield_Town_A.  [1.0, 0.26771923747636567]\n",
      "British_television_p  [1.0, 0.25575511724995875]\n",
      "Leaders_of_the_Liber  [1.0, 0.25567264061420797]\n",
      "Black_Top_Records_ar  [1.0, 0.25076161965306959]\n",
      "University_of_Pennsy  [1.0, 0.25036952568651794]\n",
      "Recipients_of_the_Or  [1.0, 0.25033086080037831]\n",
      "English_rock_drummer  [1.0, 0.23464850633331338]\n",
      "People_from_Bangkok   [1.0, 0.22935102629592752]\n",
      "Women_architects      [1.0, 0.22620344137458895]\n",
      "Recipients_of_the_Me  [1.0, 0.21367043142372602]\n",
      "Male_actors_from_Ker  [1.0, 0.2038022151931112]\n",
      "American_medical_wri  [1.0, 0.20246858307692608]\n",
      "Presbyterians_from_N  [1.0, 0.20079315472459439]\n",
      "Olympic_tennis_playe  [1.0, 0.18687291487842853]\n",
      "American_Revolutiona  [1.0, 0.18566609509983475]\n",
      "Members_of_the_Order  [1.0, 0.18444794406835607]\n",
      "Enja_Records_artists  [1.0, 0.18070390564956468]\n",
      "Businesspeople_from_  [1.0, 0.168871319710446]\n",
      "ARIA_Award_winners    [1.0, 0.16676561432724404]\n",
      "El_Paso_Diablos_play  [1.0, 0.14395062340626558]\n",
      "People_from_North_Yo  [1.0, 0.14313677605125302]\n",
      "English_musicologist  [1.0, 0.14303605454988566]\n",
      "LGBT_people_from_the  [1.0, 0.13614049057671812]\n",
      "English_women_painte  [1.0, 0.13268814534486034]\n",
      "People_from_Newport,  [1.0, 0.1295876154456454]\n",
      "Infectious_disease_d  [1.0, 0.12618072242227873]\n",
      "Sportspeople_from_Ka  [1.0, 0.1257797794424424]\n",
      "Members_of_the_Legis  [1.0, 0.12567925728375653]\n",
      "Leyton_Orient_F.C._p  [1.0, 0.12557594758596546]\n",
      "People_associated_wi  [1.0, 0.12551944903957063]\n",
      "Norwich_University_a  [1.0, 0.12551824704142306]\n",
      "English_horror_write  [1.0, 0.12526638073845112]\n",
      "Butler_University_al  [1.0, 0.12525476831655249]\n",
      "Cypherpunks           [1.0, 0.12517427561562244]\n",
      "Scottish_television_  [1.0, 0.12161711599057756]\n",
      "Male_actors_from_Uta  [1.0, 0.11532791237913591]\n",
      "Members_of_the_House  [1.0, 0.11479545930089891]\n",
      "New_York_television_  [1.0, 0.114551074628943]\n",
      "Houston_Rockets_draf  [1.0, 0.11301048187547304]\n",
      "English_wood_engrave  [1.0, 0.11128789266060118]\n",
      "Greek_Basket_League_  [1.0, 0.10889723980471488]\n",
      "University_of_Windso  [1.0, 0.10548520736718162]\n",
      "Musicians_from_Bosto  [1.0, 0.10409858482253727]\n",
      "People_from_Vancouve  [1.0, 0.10329860517468223]\n",
      "American_chief_execu  [1.0, 0.1014268432391419]\n",
      "Christian_female_sai  [1.0, 0.10048184493150555]\n",
      "Burials_at_Calvary_C  [1.0, 0.093732270304024035]\n",
      "Recipients_of_the_St  [1.0, 0.09362921080613433]\n",
      "Dutch_emigrants_to_t  [1.0, 0.085696832345095467]\n",
      "People_from_Gothenbu  [1.0, 0.077686717128778351]\n",
      "New_Zealand_people_o  [1.0, 0.072958405886159441]\n",
      "American_psychology_  [1.0, 0.067818883784956638]\n",
      "People_educated_at_B  [1.0, 0.062717908319535026]\n",
      "German_emigrants_to_  [1.0, 0.040725281460455544]\n",
      "American_newspaper_e  [1.0, 0.036136889778688557]\n",
      "Sportspeople_from_Sa  [1.0, 0.026184812209478749]\n",
      "Prisoners_and_detain  [1.0, 0.0053382978790024807]\n",
      "People_from_Fort_Lee  [1.0, 0.0031682246581592808]\n",
      "USC_Trojans_baseball  [1.0, 0.0027793176698628005]\n",
      "Sportspeople_from_Ta  [1.0, 0.002316429059300718]\n",
      "Converts_to_Judaism   [1.0, 0.0010626986893961755]\n",
      "Drexel_University_al  [1.0, 0.00068746086643584623]\n",
      "People_from_Hastings  [1.0, 0.00055251059747730101]\n",
      "Oregon_State_Univers  [1.0, 0.00023794773824360003]\n"
     ]
    }
   ],
   "source": [
    "print len(cat_to_stat)\n",
    "cat_to_stat.sort(key=lambda x: x[2], reverse=True)\n",
    "'''\n",
    "for e in cat_to_stat[-1:]:\n",
    "    print '%-21s'%e[0][:20] , e[1:]\n",
    "    nv, _tes, _trs = get_feat(cat)\n",
    "    print len(nv)\n",
    "    pprint(nv)\n",
    "'''    \n",
    "for e in cat_to_stat:\n",
    "    print '%-21s'%e[0][:20] , e[1:]"
   ]
  },
  {
   "cell_type": "code",
   "execution_count": 56,
   "metadata": {
    "collapsed": false
   },
   "outputs": [
    {
     "data": {
      "image/png": "[encoded data removed]",
      "text/plain": [
       "<IPython.core.display.Image object>"
      ]
     },
     "execution_count": 56,
     "metadata": {},
     "output_type": "execute_result"
    }
   ],
   "source": [
    "filename='figures/ppcfg~0.expcfg~16.cat_to_ap_mrr.png'\n",
    "for cat, te_ap, te_mr, tr_ap, tr_mr in cat_to_stat:\n",
    "    plt.scatter(te_ap, te_mr, c='red', alpha=0.2)\n",
    "    plt.scatter(tr_ap, tr_mr, c='blue', alpha=0.2)\n",
    "    pass\n",
    "plt.xlabel('AUPR')\n",
    "plt.ylabel('MRR')\n",
    "plt.savefig(filename)\n",
    "plt.close()\n",
    "Image(filename=filename)"
   ]
  }
 ],
 "metadata": {
  "kernelspec": {
   "display_name": "Python 2",
   "language": "python",
   "name": "python2"
  },
  "language_info": {
   "codemirror_mode": {
    "name": "ipython",
    "version": 2
   },
   "file_extension": ".py",
   "mimetype": "text/x-python",
   "name": "python",
   "nbconvert_exporter": "python",
   "pygments_lexer": "ipython2",
   "version": "2.7.10"
  }
 },
 "nbformat": 4,
 "nbformat_minor": 0
}
