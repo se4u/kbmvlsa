{
 "cells": [
  {
   "cell_type": "code",
   "execution_count": null,
   "metadata": {
    "collapsed": true
   },
   "outputs": [],
   "source": [
    "import cPickle as pkl\n",
    "from performance_aggregator import ranking_stats"
   ]
  },
  {
   "cell_type": "code",
   "execution_count": 32,
   "metadata": {
    "collapsed": false
   },
   "outputs": [],
   "source": [
    "f = open('/export/b15/prastog3/catpeople_ls.ppcfg~0.expcfg~16.pkl')\n",
    "self = pkl.load(f)"
   ]
  },
  {
   "cell_type": "code",
   "execution_count": 33,
   "metadata": {
    "collapsed": true
   },
   "outputs": [],
   "source": [
    "record = self.record\n",
    "TM = self.TM\n",
    "urls = self.url_list\n",
    "limit = self.limit\n",
    "cats = record.keys()"
   ]
  },
  {
   "cell_type": "code",
   "execution_count": 34,
   "metadata": {
    "collapsed": false
   },
   "outputs": [
    {
     "name": "stdout",
     "output_type": "stream",
     "text": [
      "AUPR   1.0000 RAUPR  0.0004 P@10   0.8000 RP@10  0.0000 P@100  0.0800 RP@100 0.0000 MRR    1.0000 RMRR   0.0016\n"
     ]
    }
   ],
   "source": [
    "scores, scratch = record[cats[0]][0]\n",
    "print "
   ]
  },
  {
   "cell_type": "code",
   "execution_count": 37,
   "metadata": {
    "collapsed": false
   },
   "outputs": [
    {
     "name": "stdout",
     "output_type": "stream",
     "text": [
      "[1.0, 0.8, 0.08, 1.0]\n",
      "[1.0, 0.6, 0.06, 1.0]\n",
      "[1.0, 0.4, 0.04, 1.0]\n",
      "[1.0, 1.0, 0.1, 1.0]\n",
      "[1.0, 1.0, 0.12, 1.0]\n",
      "[1.0, 0.4, 0.04, 1.0]\n",
      "[1.0, 0.8, 0.08, 1.0]\n",
      "[1.0, 1.0, 0.26, 1.0]\n",
      "[1.0, 1.0, 0.12, 1.0]\n",
      "[1.0, 0.8, 0.08, 1.0]\n",
      "[1.0, 0.5, 0.05, 1.0]\n",
      "[1.0, 1.0, 0.11, 1.0]\n",
      "[1.0, 0.5, 0.05, 1.0]\n",
      "[1.0, 0.5, 0.05, 1.0]\n",
      "[1.0, 1.0, 0.12, 1.0]\n",
      "[1.0, 0.6, 0.06, 1.0]\n",
      "[1.0, 0.4, 0.04, 1.0]\n",
      "[1.0, 1.0, 0.21, 1.0]\n",
      "[1.0, 0.8, 0.08, 1.0]\n",
      "[1.0, 0.3, 0.03, 1.0]\n",
      "[1.0, 0.3, 0.03, 1.0]\n",
      "[1.0, 0.6, 0.06, 1.0]\n",
      "[1.0, 0.4, 0.04, 1.0]\n",
      "[1.0, 0.4, 0.04, 1.0]\n",
      "[1.0, 0.8, 0.08, 1.0]\n",
      "[1.0, 0.3, 0.03, 1.0]\n",
      "[1.0, 0.6, 0.06, 1.0]\n",
      "[1.0, 1.0, 0.13, 1.0]\n",
      "[1.0, 0.3, 0.03, 1.0]\n",
      "[1.0, 0.8, 0.08, 1.0]\n",
      "[1.0, 0.4, 0.04, 1.0]\n",
      "[1.0, 1.0, 0.14, 1.0]\n",
      "[1.0, 0.9, 0.09, 1.0]\n",
      "[1.0, 0.4, 0.04, 1.0]\n",
      "[1.0, 0.3, 0.03, 1.0]\n",
      "[1.0, 0.6, 0.06, 1.0]\n",
      "[1.0, 0.7, 0.07, 1.0]\n",
      "[1.0, 0.5, 0.05, 1.0]\n",
      "[1.0, 0.3, 0.03, 1.0]\n",
      "[1.0, 0.6, 0.06, 1.0]\n",
      "[1.0, 0.3, 0.03, 1.0]\n",
      "[1.0, 0.4, 0.04, 1.0]\n",
      "[1.0, 0.8, 0.08, 1.0]\n",
      "[1.0, 0.8, 0.08, 1.0]\n",
      "[1.0, 1.0, 0.16, 1.0]\n",
      "[1.0, 0.5, 0.05, 1.0]\n",
      "[1.0, 0.3, 0.03, 1.0]\n",
      "[1.0, 1.0, 0.11, 1.0]\n",
      "[1.0, 0.8, 0.08, 1.0]\n",
      "[1.0, 0.4, 0.04, 1.0]\n",
      "[1.0, 0.3, 0.03, 1.0]\n",
      "[1.0, 0.6, 0.06, 1.0]\n",
      "[1.0, 0.3, 0.03, 1.0]\n",
      "[1.0, 0.3, 0.03, 1.0]\n",
      "[1.0, 1.0, 0.1, 1.0]\n",
      "[1.0, 0.5, 0.05, 1.0]\n",
      "[1.0, 0.8, 0.08, 1.0]\n",
      "[1.0, 0.3, 0.03, 1.0]\n",
      "[1.0, 0.3, 0.03, 1.0]\n",
      "[1.0, 0.7, 0.07, 1.0]\n",
      "[1.0, 1.0, 0.19, 1.0]\n",
      "[1.0, 0.3, 0.03, 1.0]\n",
      "[1.0, 0.3, 0.03, 1.0]\n",
      "[1.0, 0.4, 0.04, 1.0]\n",
      "[1.0, 0.4, 0.04, 1.0]\n",
      "[1.0, 0.3, 0.03, 1.0]\n",
      "[1.0, 0.6, 0.06, 1.0]\n",
      "[1.0, 0.5, 0.05, 1.0]\n",
      "[1.0, 1.0, 0.39, 1.0]\n",
      "[1.0, 0.5, 0.05, 1.0]\n",
      "[1.0, 0.3, 0.03, 1.0]\n",
      "[1.0, 0.3, 0.03, 1.0]\n",
      "[1.0, 0.9, 0.09, 1.0]\n",
      "[1.0, 0.3, 0.03, 1.0]\n",
      "[1.0, 0.4, 0.04, 1.0]\n",
      "[1.0, 0.3, 0.03, 1.0]\n",
      "[1.0, 0.3, 0.03, 1.0]\n",
      "[1.0, 0.3, 0.03, 1.0]\n",
      "[1.0, 1.0, 0.39, 1.0]\n",
      "[1.0, 0.8, 0.08, 1.0]\n",
      "[1.0, 0.7, 0.07, 1.0]\n",
      "[1.0, 0.7, 0.07, 1.0]\n",
      "[1.0, 0.4, 0.04, 1.0]\n",
      "[1.0, 0.5, 0.05, 1.0]\n",
      "[1.0, 1.0, 0.15, 1.0]\n",
      "[1.0, 1.0, 0.26, 1.0]\n",
      "[1.0, 1.0, 0.74, 1.0]\n",
      "[1.0, 0.4, 0.04, 1.0]\n",
      "[1.0, 1.0, 0.2, 1.0]\n",
      "[1.0, 0.4, 0.04, 1.0]\n",
      "[1.0, 0.4, 0.04, 1.0]\n",
      "[1.0, 0.3, 0.03, 1.0]\n",
      "[1.0, 0.4, 0.04, 1.0]\n",
      "[1.0, 0.6, 0.06, 1.0]\n",
      "[1.0, 0.4, 0.04, 1.0]\n",
      "[1.0, 0.4, 0.04, 1.0]\n",
      "[1.0, 0.4, 0.04, 1.0]\n",
      "[1.0, 0.4, 0.04, 1.0]\n",
      "[1.0, 0.4, 0.04, 1.0]\n",
      "[1.0, 1.0, 0.14, 1.0]\n"
     ]
    }
   ],
   "source": [
    "for cat in cats:\n",
    "    scores, scratch = record[cat][0]\n",
    "    print ranking_stats(self.convert(scores))[::2]"
   ]
  },
  {
   "cell_type": "code",
   "execution_count": null,
   "metadata": {
    "collapsed": true
   },
   "outputs": [],
   "source": [
    "coef = scratch['coef']\n",
    "intercept = scratch['intercept']\n",
    "features = scratch['features']\n",
    "print type(coef), type(intercept), type(features)\n",
    "print coef.shape, intercept.shape, features.shape\n",
    "print intercept\n",
    "print coef.T[:10]\n",
    "print "
   ]
  },
  {
   "cell_type": "code",
   "execution_count": 27,
   "metadata": {
    "collapsed": false
   },
   "outputs": [
    {
     "name": "stdout",
     "output_type": "stream",
     "text": [
      "<type 'numpy.ndarray'> <type 'numpy.ndarray'> <class 'scipy.sparse.csc.csc_matrix'>\n",
      "(1, 1148041) (1,) (58943, 1148041)\n",
      "[[ 0.        ]\n",
      " [-0.0028618 ]\n",
      " [-0.01505119]\n",
      " [-0.00099273]\n",
      " [ 0.        ]\n",
      " [-0.01728256]\n",
      " [ 0.        ]\n",
      " [ 0.00911008]\n",
      " [ 0.        ]\n",
      " [-0.00036219]]\n"
     ]
    }
   ],
   "source": []
  }
 ],
 "metadata": {
  "kernelspec": {
   "display_name": "Python 2",
   "language": "python",
   "name": "python2"
  },
  "language_info": {
   "codemirror_mode": {
    "name": "ipython",
    "version": 2
   },
   "file_extension": ".py",
   "mimetype": "text/x-python",
   "name": "python",
   "nbconvert_exporter": "python",
   "pygments_lexer": "ipython2",
   "version": "2.7.10"
  }
 },
 "nbformat": 4,
 "nbformat_minor": 0
}
