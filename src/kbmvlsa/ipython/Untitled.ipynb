{
 "cells": [
  {
   "cell_type": "code",
   "execution_count": 7,
   "metadata": {
    "collapsed": true
   },
   "outputs": [],
   "source": [
    "import cPickle\n",
    "import itertools\n",
    "\n",
    "with open(\"/Users/pushpendrerastogi/export/kbmvlsa/dbpedia.trecweb.make/field_tokens.pkl\") as f:\n",
    "    data = cPickle.load(f)\n",
    "\n",
    "fields = [\"DOCNO\", \"DOCHDR\", \"names\", \"category\", \"attributes\", \"SimEn\", \"RelEn\"]\n",
    "for idx, (vocab, field) in enumerate(itertools.izip(data, fields)):\n",
    "    data[idx] = sorted(data[idx].iteritems(), key=lambda x: (x[1], x[0]), reverse=True)"
   ]
  },
  {
   "cell_type": "code",
   "execution_count": 1,
   "metadata": {
    "collapsed": false
   },
   "outputs": [],
   "source": [
    "%load_ext Cython"
   ]
  },
  {
   "cell_type": "code",
   "execution_count": 8,
   "metadata": {
    "collapsed": false
   },
   "outputs": [
    {
     "name": "stderr",
     "output_type": "stream",
     "text": [
      "\n",
      "Error compiling Cython file:\n",
      "------------------------------------------------------------\n",
      "...\n",
      "            retval = 1\n",
      "        return retval\n",
      "\n",
      "\n",
      "    cdef int _serialize(self,\n",
      "                        np.ndarray[np.uint32_t, mode=\"c\", ndim=1]& arr,\n",
      "                                                                ^\n",
      "------------------------------------------------------------\n",
      "\n",
      "/Users/pushpendrerastogi/.ipython/cython/_cython_magic_ca0109e18d242c4d2b9c0e9c5cc431b5.pyx:43:65: Reference base type cannot be a Python object\n",
      "\n",
      "Error compiling Cython file:\n",
      "------------------------------------------------------------\n",
      "...\n",
      "            self.field_token_doc_count.push_back(deref(vec_ptr))\n",
      "        return\n",
      "\n",
      "    cdef int update(self, int field_idx, int token_idx, int doc_idx):\n",
      "        cdef pair[int,int]* topelem_ptr\n",
      "        cdef vector[pair[int,int]]* ft_ptr = &(\n",
      "                                            ^\n",
      "------------------------------------------------------------\n",
      "\n",
      "/Users/pushpendrerastogi/.ipython/cython/_cython_magic_ca0109e18d242c4d2b9c0e9c5cc431b5.pyx:25:45: Cannot take address of Python variable\n",
      "\n",
      "Error compiling Cython file:\n",
      "------------------------------------------------------------\n",
      "...\n",
      "        cdef vector[pair[int,int]]* column_ptr\n",
      "        with zipfile.ZipFile(filename, mode=\"w\", compression=zipfile.ZIP_STORED,\n",
      "                             allowZip64=True) as zipf:\n",
      "            for field_idx in range(self.n_fields):\n",
      "                vocab_size = self.field_token_doc_count[field_idx].size()\n",
      "                indptr = np.empty([vocab_siz,], dtype=np.uint32_t, mode=\"c\")\n",
      "                                           ^\n",
      "------------------------------------------------------------\n",
      "\n",
      "/Users/pushpendrerastogi/.ipython/cython/_cython_magic_ca0109e18d242c4d2b9c0e9c5cc431b5.pyx:70:44: undeclared name not builtin: vocab_siz\n",
      "\n",
      "Error compiling Cython file:\n",
      "------------------------------------------------------------\n",
      "...\n",
      "                print field_idx, data_size\n",
      "                indices = np.empty([data_size,], dtype=np.uint32_t)\n",
      "                data = np.empty([data_size,], dtype=np.uint32_t)\n",
      "                data_idx = 0\n",
      "                for token_idx in range(vocab_size):\n",
      "                    column_ptr = &self.field_token_doc_count[field_idx][token_idx]\n",
      "                                ^\n",
      "------------------------------------------------------------\n",
      "\n",
      "/Users/pushpendrerastogi/.ipython/cython/_cython_magic_ca0109e18d242c4d2b9c0e9c5cc431b5.pyx:81:33: Cannot take address of Python variable\n",
      "\n",
      "Error compiling Cython file:\n",
      "------------------------------------------------------------\n",
      "...\n",
      "                tmpfd, tmpfile_fn = tempfile.mkstemp(prefix=file_prefix, dir=file_dir, suffix='-numpy.npy')\n",
      "                tmpfd.close()\n",
      "                self._serialize(indptr, str(field_idx) + '_indptr', zipf, tmpfile_fn)\n",
      "                self._serialize(indices, str(field_idx) + '_indices', zipf, tmpfile_fn)\n",
      "                self._serialize(data, str(field_idx) + '_data', zipf, tmpfile_fn)\n",
      "        return\n",
      "       ^\n",
      "------------------------------------------------------------\n",
      "\n",
      "/Users/pushpendrerastogi/.ipython/cython/_cython_magic_ca0109e18d242c4d2b9c0e9c5cc431b5.pyx:92:8: Return value required\n"
     ]
    }
   ],
   "source": [
    "%%cython --cplus\n",
    "# distutils: language=c++\n",
    "from libcpp.vector cimport vector\n",
    "from libcpp.pair cimport pair\n",
    "from libcpp.string cimport string\n",
    "from cython.operator cimport dereference as deref, postincrement\n",
    "import numpy as np\n",
    "cimport numpy as np\n",
    "import zipfile\n",
    "import os, tempfile\n",
    "cdef class FieldedHitList:\n",
    "    \"A Cython class to store a HitList\"\n",
    "    def __cinit__(self, int n_fields, list field_to_vocabsize):\n",
    "        self.n_fields = n_fields\n",
    "        self.field_to_vocabsize = field_to_vocabsize\n",
    "        for f, vocabsize in zip(range(n_fields), field_to_vocabsize):\n",
    "            vec_ptr = new vector[vector[pair[int,int]]]()\n",
    "            for v in range(vocabsize):\n",
    "                vec2_ptr = new vector[pair[int,int]]()\n",
    "                deref(vec_ptr).push_back(deref(vec2_ptr))\n",
    "            self.field_token_doc_count.push_back(deref(vec_ptr))\n",
    "        return\n",
    "\n",
    "    cdef int update(self, int field_idx, int token_idx, int doc_idx):\n",
    "        cdef pair[int,int]* topelem_ptr\n",
    "        cdef vector[pair[int,int]]* ft_ptr = &(\n",
    "            self.field_token_doc_count[field_idx][token_idx])\n",
    "        cdef int retval\n",
    "        if deref(ft_ptr).size():\n",
    "            topelem_ptr = &(deref(ft_ptr).back())\n",
    "            if deref(topelem_ptr).first == doc_idx:\n",
    "                postincrement(deref(topelem_ptr).second)\n",
    "                retval = 0\n",
    "            else:\n",
    "                deref(ft_ptr).push_back((doc_idx, 1))\n",
    "                retval = 1\n",
    "        else:\n",
    "            deref(ft_ptr).push_back((doc_idx, 1))\n",
    "            retval = 1\n",
    "        return retval\n",
    "\n",
    "\n",
    "    cdef int _serialize(self,\n",
    "                        np.ndarray[np.uint32_t, mode=\"c\", ndim=1]& arr,\n",
    "                        string arcname,\n",
    "                        zipf,\n",
    "                        tmpfile_fn):\n",
    "        ''' Save `array` to `zipf` with `arcname` in two steps.\n",
    "        1st write `arr` to `tmpfile_fn`.\n",
    "        2nd add the `tmpfile_fn` to `zipf` under the name `arcname`\n",
    "        '''\n",
    "        with open(tmpfile_fn, 'wb') as tmpfile:\n",
    "            format.write_array(tmpfile, arr, allow_pickle=False)\n",
    "        zipf.write(tmpfile_fn, arcname=arcname)\n",
    "        return 1\n",
    "\n",
    "    cdef int serialize(self, string filename):\n",
    "        cdef int field_idx\n",
    "        cdef np.ndarray indptr\n",
    "        cdef np.ndarray indices\n",
    "        cdef np.ndarray data\n",
    "        cdef int data_size\n",
    "        cdef int vocab_size\n",
    "        cdef int data_idx\n",
    "        cdef int offset_idx\n",
    "        cdef vector[pair[int,int]]* column_ptr\n",
    "        with zipfile.ZipFile(filename, mode=\"w\", compression=zipfile.ZIP_STORED,\n",
    "                             allowZip64=True) as zipf:\n",
    "            for field_idx in range(self.n_fields):\n",
    "                vocab_size = self.field_token_doc_count[field_idx].size()\n",
    "                indptr = np.empty([vocab_siz,], dtype=np.uint32_t, mode=\"c\")\n",
    "                data_size = 0\n",
    "                for token_idx in range(vocab_size):\n",
    "                    indptr[token_idx] = self.field_token_doc_count[field_idx][token_idx].size()\n",
    "                    data_size += indptr[token_idx]\n",
    "\n",
    "                print field_idx, data_size\n",
    "                indices = np.empty([data_size,], dtype=np.uint32_t)\n",
    "                data = np.empty([data_size,], dtype=np.uint32_t)\n",
    "                data_idx = 0\n",
    "                for token_idx in range(vocab_size):\n",
    "                    column_ptr = &self.field_token_doc_count[field_idx][token_idx]\n",
    "                    for offset_idx in range(indptr[token_idx]):\n",
    "                        data_idx += 1\n",
    "                        indices[data_idx] = (deref(column_ptr))[offset_idx].first\n",
    "                        data[data_idx] = (deref(column_ptr))[offset_idx].second\n",
    "                file_dir, file_prefix = os.path.split(filename)\n",
    "                tmpfd, tmpfile_fn = tempfile.mkstemp(prefix=file_prefix, dir=file_dir, suffix='-numpy.npy')\n",
    "                tmpfd.close()\n",
    "                self._serialize(indptr, str(field_idx) + '_indptr', zipf, tmpfile_fn)\n",
    "                self._serialize(indices, str(field_idx) + '_indices', zipf, tmpfile_fn)\n",
    "                self._serialize(data, str(field_idx) + '_data', zipf, tmpfile_fn)\n",
    "        return"
   ]
  },
  {
   "cell_type": "code",
   "execution_count": 38,
   "metadata": {
    "collapsed": false
   },
   "outputs": [
    {
     "name": "stdout",
     "output_type": "stream",
     "text": [
      "[[[], [], []], [[], [], [], []]]\n",
      "[[[], [(234, 2), (235, 1)], []], [[], [], [], []]]\n"
     ]
    }
   ],
   "source": [
    "%%cython --cplus\n",
    "from libcpp.vector cimport vector\n",
    "from libcpp.string cimport string\n",
    "from libcpp.stack cimport stack\n",
    "from libcpp.pair cimport pair\n",
    "from cython.operator cimport dereference as deref, postincrement\n",
    "\n",
    "\n",
    "cdef FieldedHitList fhl = FieldedHitList(2, [3, 4])\n",
    "print fhl.field_token_doc_count\n",
    "fhl.update(0, 1, 234)\n",
    "fhl.update(0, 1, 234)\n",
    "fhl.update(0, 1, 235)\n",
    "print fhl.field_token_doc_count\n"
   ]
  },
  {
   "cell_type": "code",
   "execution_count": 65,
   "metadata": {
    "collapsed": true
   },
   "outputs": [],
   "source": [
    "with open(\"/tmp/tmp.pkl\") as f:\n",
    "    data2 = cPickle.load(f)\n",
    "\n",
    "#fields = [\"DOCNO\", \"DOCHDR\", \"names\", \"category\", \"attributes\", \"SimEn\", \"RelEn\"]\n",
    "#for idx, (vocab, field) in enumerate(itertools.izip(data2, fields)):\n",
    "#    data2[idx] = sorted(data2[idx].iteritems(), key=lambda x: (x[1], x[0]), reverse=True)"
   ]
  },
  {
   "cell_type": "code",
   "execution_count": 1,
   "metadata": {
    "collapsed": false,
    "scrolled": false
   },
   "outputs": [
    {
     "name": "stdout",
     "output_type": "stream",
     "text": [
      "1\n"
     ]
    }
   ],
   "source": [
    "print 1"
   ]
  },
  {
   "cell_type": "code",
   "execution_count": 67,
   "metadata": {
    "collapsed": false,
    "scrolled": false
   },
   "outputs": [
    {
     "data": {
      "text/plain": [
       "True"
      ]
     },
     "execution_count": 67,
     "metadata": {},
     "output_type": "execute_result"
    }
   ],
   "source": [
    "data2[5]['carmela\\x00'] == 2"
   ]
  }
 ],
 "metadata": {
  "kernelspec": {
   "display_name": "Python 2",
   "language": "python",
   "name": "python2"
  },
  "language_info": {
   "codemirror_mode": {
    "name": "ipython",
    "version": 2
   },
   "file_extension": ".py",
   "mimetype": "text/x-python",
   "name": "python",
   "nbconvert_exporter": "python",
   "pygments_lexer": "ipython2",
   "version": "2.7.12"
  }
 },
 "nbformat": 4,
 "nbformat_minor": 1
}
