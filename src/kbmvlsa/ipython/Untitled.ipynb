{
 "cells": [
  {
   "cell_type": "code",
   "execution_count": 7,
   "metadata": {
    "collapsed": true
   },
   "outputs": [],
   "source": [
    "import cPickle\n",
    "import itertools\n",
    "\n",
    "with open(\"/Users/pushpendrerastogi/export/kbmvlsa/dbpedia.trecweb.make/field_tokens.pkl\") as f:\n",
    "    data = cPickle.load(f)\n",
    "\n",
    "fields = [\"DOCNO\", \"DOCHDR\", \"names\", \"category\", \"attributes\", \"SimEn\", \"RelEn\"]\n",
    "for idx, (vocab, field) in enumerate(itertools.izip(data, fields)):\n",
    "    data[idx] = sorted(data[idx].iteritems(), key=lambda x: (x[1], x[0]), reverse=True)"
   ]
  },
  {
   "cell_type": "code",
   "execution_count": 43,
   "metadata": {
    "collapsed": false
   },
   "outputs": [
    {
     "data": {
      "text/plain": [
       "12091886"
      ]
     },
     "execution_count": 43,
     "metadata": {},
     "output_type": "execute_result"
    }
   ],
   "source": [
    "\n",
    "sum([len(d) for d in data])"
   ]
  },
  {
   "cell_type": "code",
   "execution_count": 7,
   "metadata": {
    "collapsed": false
   },
   "outputs": [
    {
     "name": "stdout",
     "output_type": "stream",
     "text": [
      "Python list 0.746551036835 s\n",
      "Python list _casted 0.147969007492 s\n",
      "Python list _casted_natural 0.127753019333 s\n",
      "Python list _casted_natural_typechecked 0.126861095428 s\n",
      "Typed list 0.173035860062 s\n"
     ]
    }
   ],
   "source": [
    "%%cython --cplus\n",
    "cdef class A:\n",
    "    cdef public int x\n",
    "\n",
    "cdef class Alist:\n",
    "    def __init__(self):\n",
    "            self.inner = []\n",
    "    cdef list inner\n",
    "    cdef void append(self, A a):\n",
    "        self.inner.append(a)\n",
    "    cdef A get(self, int i):\n",
    "        return <A> self.inner[i]\n",
    "    def __len__(self):\n",
    "        return len(self.inner)\n",
    "\n",
    "cdef Alist make_typed_list(int N):\n",
    "    cdef A a\n",
    "    cdef int i\n",
    "    cdef Alist L = Alist()\n",
    "    for i in range(N):\n",
    "        a = A()\n",
    "        a.x = 1\n",
    "        L.append(a)\n",
    "    return L\n",
    "\n",
    "cdef list make_python_list(int N):\n",
    "    cdef A a\n",
    "    cdef int i\n",
    "    cdef list L = []\n",
    "    for i in range(N):\n",
    "        a = A()\n",
    "        a.x = 1\n",
    "        L.append(a)\n",
    "    return L\n",
    "\n",
    "cdef long test_python_list(list L) except -1:\n",
    "    cdef int i\n",
    "    cdef long sum = 0\n",
    "    for i in range(len(L)):\n",
    "        sum += L[i].x\n",
    "    return sum\n",
    "\n",
    "cdef long test_python_list_casted(list L) except -1:\n",
    "    cdef int i\n",
    "    cdef long sum = 0\n",
    "    for i in range(len(L)):\n",
    "        sum += (<A>L[i]).x\n",
    "    return sum\n",
    "\n",
    "\n",
    "cdef long test_python_list_casted_natural(list L) except -1:\n",
    "    cdef int i\n",
    "    cdef long sum = 0\n",
    "    for a in L:\n",
    "        sum += (<A>a).x\n",
    "    return sum\n",
    "\n",
    "cdef long test_python_list_casted_natural_typechecked(list L) except -1:\n",
    "    cdef int i\n",
    "    cdef long sum = 0\n",
    "    for a in L:\n",
    "        sum += (<A?>a).x\n",
    "    return sum\n",
    "\n",
    "cdef long test_typed_list(Alist L) except -1:\n",
    "    cdef int i\n",
    "    cdef long sum = 0\n",
    "    for i in range(len(L)):\n",
    "        sum += L.get(i).x\n",
    "    return sum\n",
    "\n",
    "from time import time\n",
    "\n",
    "L = make_python_list(10000000)\n",
    "start = time(); z = test_python_list(L); end = time(); print \"Python list\", end - start, \"s\"\n",
    "start = time(); z = test_python_list_casted(L); end = time(); print \"Python list _casted\", end - start, \"s\"\n",
    "start = time(); z = test_python_list_casted_natural(L); end = time(); print \"Python list _casted_natural\", end - start, \"s\"\n",
    "start = time(); z = test_python_list_casted_natural_typechecked(L); end = time(); print \"Python list _casted_natural_typechecked\", end - start, \"s\"\n",
    "\n",
    "L = make_typed_list(10000000)\n",
    "start = time()\n",
    "z = test_typed_list(L)\n",
    "end = time()\n",
    "print \"Typed list\", end - start, \"s\""
   ]
  },
  {
   "cell_type": "code",
   "execution_count": 38,
   "metadata": {
    "collapsed": false
   },
   "outputs": [
    {
     "name": "stdout",
     "output_type": "stream",
     "text": [
      "[[[], [], []], [[], [], [], []]]\n",
      "[[[], [(234, 2), (235, 1)], []], [[], [], [], []]]\n"
     ]
    }
   ],
   "source": [
    "%%cython --cplus\n",
    "from libcpp.vector cimport vector\n",
    "from libcpp.string cimport string\n",
    "from libcpp.stack cimport stack\n",
    "from libcpp.pair cimport pair\n",
    "from cython.operator cimport dereference as deref, postincrement\n",
    "\n",
    "\n",
    "cdef FieldedHitList fhl = FieldedHitList(2, [3, 4])\n",
    "print fhl.field_token_doc_count\n",
    "fhl.update(0, 1, 234)\n",
    "fhl.update(0, 1, 234)\n",
    "fhl.update(0, 1, 235)\n",
    "print fhl.field_token_doc_count\n"
   ]
  },
  {
   "cell_type": "code",
   "execution_count": 65,
   "metadata": {
    "collapsed": true
   },
   "outputs": [],
   "source": [
    "with open(\"/tmp/tmp.pkl\") as f:\n",
    "    data2 = cPickle.load(f)\n",
    "\n",
    "#fields = [\"DOCNO\", \"DOCHDR\", \"names\", \"category\", \"attributes\", \"SimEn\", \"RelEn\"]\n",
    "#for idx, (vocab, field) in enumerate(itertools.izip(data2, fields)):\n",
    "#    data2[idx] = sorted(data2[idx].iteritems(), key=lambda x: (x[1], x[0]), reverse=True)"
   ]
  },
  {
   "cell_type": "code",
   "execution_count": 1,
   "metadata": {
    "collapsed": false,
    "scrolled": false
   },
   "outputs": [
    {
     "name": "stdout",
     "output_type": "stream",
     "text": [
      "1\n"
     ]
    }
   ],
   "source": [
    "print 1"
   ]
  },
  {
   "cell_type": "code",
   "execution_count": 67,
   "metadata": {
    "collapsed": false,
    "scrolled": false
   },
   "outputs": [
    {
     "data": {
      "text/plain": [
       "True"
      ]
     },
     "execution_count": 67,
     "metadata": {},
     "output_type": "execute_result"
    }
   ],
   "source": [
    "data2[5]['carmela\\x00'] == 2"
   ]
  }
 ],
 "metadata": {
  "kernelspec": {
   "display_name": "Python 2",
   "language": "python",
   "name": "python2"
  },
  "language_info": {
   "codemirror_mode": {
    "name": "ipython",
    "version": 2
   },
   "file_extension": ".py",
   "mimetype": "text/x-python",
   "name": "python",
   "nbconvert_exporter": "python",
   "pygments_lexer": "ipython2",
   "version": "2.7.12"
  }
 },
 "nbformat": 4,
 "nbformat_minor": 1
}
