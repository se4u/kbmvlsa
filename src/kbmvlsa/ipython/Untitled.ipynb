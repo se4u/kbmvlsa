{
 "cells": [
  {
   "cell_type": "code",
   "execution_count": 7,
   "metadata": {
    "collapsed": true
   },
   "outputs": [],
   "source": [
    "import cPickle\n",
    "import itertools\n",
    "\n",
    "with open(\"/Users/pushpendrerastogi/export/kbmvlsa/dbpedia.trecweb.make/field_tokens.pkl\") as f:\n",
    "    data = cPickle.load(f)\n",
    "\n",
    "fields = [\"DOCNO\", \"DOCHDR\", \"names\", \"category\", \"attributes\", \"SimEn\", \"RelEn\"]\n",
    "for idx, (vocab, field) in enumerate(itertools.izip(data, fields)):\n",
    "    data[idx] = sorted(data[idx].iteritems(), key=lambda x: (x[1], x[0]), reverse=True)"
   ]
  },
  {
   "cell_type": "code",
   "execution_count": 43,
   "metadata": {
    "collapsed": false
   },
   "outputs": [
    {
     "data": {
      "text/plain": [
       "12091886"
      ]
     },
     "execution_count": 43,
     "metadata": {},
     "output_type": "execute_result"
    }
   ],
   "source": [
    "sum([len(d) for d in data])"
   ]
  },
  {
   "cell_type": "code",
   "execution_count": 41,
   "metadata": {
    "collapsed": false
   },
   "outputs": [
    {
     "name": "stdout",
     "output_type": "stream",
     "text": [
      "255\n",
      "255\n",
      "0\n",
      "1\n",
      "\n"
     ]
    }
   ],
   "source": [
    "%%cython --cplus\n",
    "import numpy as np\n",
    "cimport numpy as np\n",
    "cdef np.uint8_t tmp\n",
    "cdef extern from \"numpy/npy_common.h\" nogil:\n",
    "    int NPY_MAX_UINT8\n",
    "print(NPY_MAX_UINT8)\n",
    "\n",
    "tmp=255\n",
    "print tmp\n",
    "tmp += 1\n",
    "print tmp\n",
    "tmp += 1\n",
    "print tmp\n",
    "print "
   ]
  },
  {
   "cell_type": "code",
   "execution_count": null,
   "metadata": {
    "collapsed": true
   },
   "outputs": [],
   "source": [
    "with open(\"/tmp/tmp.pkl\") as f:\n",
    "    data2 = cPickle.load(f)\n",
    "\n",
    "fields = [\"DOCNO\", \"DOCHDR\", \"names\", \"category\", \"attributes\", \"SimEn\", \"RelEn\"]\n",
    "for idx, (vocab, field) in enumerate(itertools.izip(data2, fields)):\n",
    "    data2[idx] = sorted(data2[idx].iteritems(), key=lambda x: (x[1], x[0]), reverse=True)"
   ]
  },
  {
   "cell_type": "code",
   "execution_count": 49,
   "metadata": {
    "collapsed": false
   },
   "outputs": [
    {
     "name": "stdout",
     "output_type": "stream",
     "text": [
      "DOCNO [('magazine', 4582), ('disambiguation', 4571), ('chess', 4546), ('language', 4542), ('m', 4527)]\n",
      "DOCHDR [('magazine', 4581), ('disambiguation', 4570), ('chess', 4545), ('language', 4542), ('m', 4526)]\n",
      "names [('magazine', 4580), ('disambiguation', 4569), ('chess', 4544), ('khung', 4542), ('language', 4541)]\n",
      "category [('establish', 4556), ('debut', 4398), ('megaforce', 4371), ('overkill', 4370), ('musical', 1736)]\n",
      "attributes [('background', 4573), ('years', 4572), ('active', 4571), ('action', 4570), ('pact', 4569)]\n",
      "SimEn [('ay', 4637), ('carmela', 4636), ('album', 4600), ('magazine', 4579), ('punctuation', 4543)]\n",
      "RelEn [('ay', 4638), ('carmela', 4637), ('ep', 4601), ('uk', 4566), ('small', 4563)]\n"
     ]
    }
   ],
   "source": [
    "for e,f in zip(data2, fields):\n",
    "    print f,e[:5]"
   ]
  }
 ],
 "metadata": {
  "kernelspec": {
   "display_name": "Python 2",
   "language": "python",
   "name": "python2"
  },
  "language_info": {
   "codemirror_mode": {
    "name": "ipython",
    "version": 2
   },
   "file_extension": ".py",
   "mimetype": "text/x-python",
   "name": "python",
   "nbconvert_exporter": "python",
   "pygments_lexer": "ipython2",
   "version": "2.7.12"
  }
 },
 "nbformat": 4,
 "nbformat_minor": 1
}
